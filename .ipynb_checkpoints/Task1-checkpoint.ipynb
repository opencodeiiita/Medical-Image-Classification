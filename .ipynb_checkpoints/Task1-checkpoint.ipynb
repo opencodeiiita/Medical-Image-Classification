{
  "cells": [
    {
      "cell_type": "code",
      "execution_count": null,
      "metadata": {
        "id": "ugafaNqf08Au"
      },
      "outputs": [],
      "source": [
        "''' Do not change this cell '''\n",
        "#Functions\n",
        "\n",
        "def check_gpu():\n",
        "  if tf.test.gpu_device_name() != '':\n",
        "    print(\"GPU sucessfully connected\")\n",
        "  else: print(\"PLease connect GPU\")\n",
        "\n",
        "def check_data():\n",
        "  a = set()\n",
        "  for image in Images:\n",
        "    a.add(Image.shape[2])\n",
        "  if len(a)==1 and len(Images)==624:\n",
        "    print(\"PASS\")\n",
        "  else: print(\"FAIL\")"
      ]
    },
    {
      "cell_type": "code",
      "execution_count": null,
      "metadata": {
        "id": "4-Y7qb0iYVbt"
      },
      "outputs": [],
      "source": [
        "#Import any library here only."
      ]
    },
    {
      "cell_type": "markdown",
      "metadata": {
        "id": "cJLJww-DCmOK"
      },
      "source": [
        "## <font color='orange'>Task #1</font>\n",
        "\n",
        "Data loading and understanding data"
      ]
    },
    {
      "cell_type": "code",
      "execution_count": null,
      "metadata": {
        "id": "WJbEpu20Wmgr"
      },
      "outputs": [],
      "source": [
        "#Setup and check a gpu connection."
      ]
    },
    {
      "cell_type": "code",
      "execution_count": null,
      "metadata": {
        "id": "xh7FVYEB1i4g"
      },
      "outputs": [],
      "source": [
        "''' Do not change this cell '''\n",
        "check_gpu()"
      ]
    },
    {
      "cell_type": "code",
      "execution_count": null,
      "metadata": {
        "id": "bXslEZLxW4yx"
      },
      "outputs": [],
      "source": [
        "#Create two lists, images and labels. Store Input images in 'Images' list and its labels in 'Labels' list.\n",
        "#Infected Images have two categories viral and bacterial. Find Number of images in each class. (Hint: See image name)\n",
        "#Note that images are of different sizes."
      ]
    },
    {
      "cell_type": "code",
      "execution_count": null,
      "metadata": {
        "id": "MYMO3xFo28TP"
      },
      "outputs": [],
      "source": [
        "''' Do not change this cell '''\n",
        "check_data(\"task1\")"
      ]
    },
    {
      "cell_type": "code",
      "execution_count": null,
      "metadata": {
        "id": "2uJ1Q2WoYkMW"
      },
      "outputs": [],
      "source": [
        "#Plot 5 images each of normal and infected category.\n",
        "#Also do neccessary labelings. Make sure your plots have all necessary details and looks good :)\n",
        "#You can customise your plots as per your wish."
      ]
    },
    {
      "cell_type": "code",
      "execution_count": null,
      "metadata": {},
      "outputs": [],
      "source": []
    },
    {
      "cell_type": "code",
      "execution_count": null,
      "metadata": {},
      "outputs": [],
      "source": []
    },
    {
      "cell_type": "code",
      "execution_count": null,
      "metadata": {},
      "outputs": [],
      "source": []
    },
    {
      "cell_type": "code",
      "execution_count": null,
      "metadata": {},
      "outputs": [],
      "source": []
    },
    {
      "cell_type": "code",
      "execution_count": null,
      "metadata": {},
      "outputs": [],
      "source": []
    },
    {
      "cell_type": "code",
      "execution_count": null,
      "metadata": {},
      "outputs": [],
      "source": []
    }
  ],
  "metadata": {
    "colab": {
      "provenance": []
    },
    "kernelspec": {
      "display_name": "Python 3",
      "name": "python3"
    },
    "language_info": {
      "name": "python"
    }
  },
  "nbformat": 4,
  "nbformat_minor": 0
}
