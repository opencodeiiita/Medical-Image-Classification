{
  "cells": [
    {
      "cell_type": "markdown",
      "metadata": {},
      "source": [
        "**Copy this task at end of task #1 notebook**"
      ]
    },
    {
      "cell_type": "code",
      "execution_count": null,
      "metadata": {},
      "outputs": [],
      "source": [
        "# Copy and run the code you wrote in task 1 notebook here\n"
      ]
    },
    {
      "cell_type": "markdown",
      "metadata": {
        "id": "28W1Ymzzpznu"
      },
      "source": [
        "## <font color='orange'>Task #2</font>\n",
        "\n",
        "Data Augmentation\n",
        "\n",
        "Here I have attached an resource if you find difficuties in dealing with imbalanced data: [Click here](https://www.geeksforgeeks.org/imbalanced-learn-module-in-python/)\n",
        "\n",
        "Image augmentation and Pre-Processing:\n",
        "*  [Resource 1](https://www.analyticsvidhya.com/blog/2020/08/image-augmentation-on-the-fly-using-keras-imagedatagenerator/)\n",
        "*  [Resource 2](https://www.analyticsvidhya.com/blog/2023/03/getting-started-with-image-processing-using-opencv/)\n",
        "\n",
        "**Ofcourse you may use other techniques of your choice :)**\n",
        "\n",
        "** Keep note that pre-proceesing and augmentation play crucial role in building good models"
      ]
    },
    {
      "cell_type": "code",
      "execution_count": null,
      "metadata": {
        "id": "9pNp2TSHm3Qk"
      },
      "outputs": [],
      "source": [
        "#Deal with unbalanced data\n",
        "\n",
        "'''\n",
        "    Now condider only two categories \"Normal\" and \"Infected\".\n",
        "'''\n"
      ]
    },
    {
      "cell_type": "code",
      "execution_count": null,
      "metadata": {},
      "outputs": [],
      "source": [
        "# Pre-process images here.\n"
      ]
    },
    {
      "cell_type": "code",
      "execution_count": null,
      "metadata": {},
      "outputs": [],
      "source": [
        "# Plot 5 pre-processed image\n"
      ]
    },
    {
      "cell_type": "code",
      "execution_count": null,
      "metadata": {},
      "outputs": [],
      "source": [
        "# Split images into train, validation and test.\n"
      ]
    },
    {
      "cell_type": "code",
      "execution_count": null,
      "metadata": {
        "id": "cSw5cxX6fh7i"
      },
      "outputs": [],
      "source": [
        "# Do required image augmentation on train data here.\n"
      ]
    },
    {
      "cell_type": "code",
      "execution_count": null,
      "metadata": {},
      "outputs": [],
      "source": [
        "# Plot 5 augmented train images\n"
      ]
    }
  ],
  "metadata": {
    "colab": {
      "provenance": []
    },
    "kernelspec": {
      "display_name": "Python 3",
      "name": "python3"
    },
    "language_info": {
      "codemirror_mode": {
        "name": "ipython",
        "version": 3
      },
      "file_extension": ".py",
      "mimetype": "text/x-python",
      "name": "python",
      "nbconvert_exporter": "python",
      "pygments_lexer": "ipython3",
      "version": "3.11.1"
    }
  },
  "nbformat": 4,
  "nbformat_minor": 0
}
